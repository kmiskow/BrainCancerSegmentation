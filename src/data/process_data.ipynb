{
 "cells": [
  {
   "cell_type": "markdown",
   "metadata": {},
   "source": [
    "# Data Processing"
   ]
  },
  {
   "cell_type": "markdown",
   "metadata": {},
   "source": [
    "## First steps:\n",
    "1. Download dataset from https://www.kaggle.com/datasets/awsaf49/brats2020-training-data/\n",
    "2. extract data set to /Data/\n",
    "3. "
   ]
  },
  {
   "cell_type": "code",
   "execution_count": 12,
   "metadata": {},
   "outputs": [],
   "source": [
    "import nibabel as nib\n",
    "import numpy as np\n",
    "import os\n",
    "import matplotlib.pyplot as plt\n",
    "import torch\n",
    "from torch.utils.data import Dataset\n",
    "from torchvision import datasets\n",
    "from torchvision.transforms import ToTensor\n",
    "import matplotlib.pyplot as plt\n",
    "import pandas as pd\n",
    "from torchvision.io import read_image\n",
    "from sklearn.model_selection import train_test_split"
   ]
  },
  {
   "cell_type": "code",
   "execution_count": 5,
   "metadata": {},
   "outputs": [
    {
     "name": "stdout",
     "output_type": "stream",
     "text": [
      "c:\\Users\\01150138\\Desktop\\informatyka mgr\\GSN\\Projekt\\BrainCancerSegmentation\\src\\data\n"
     ]
    }
   ],
   "source": [
    "print(os.getcwd())"
   ]
  },
  {
   "cell_type": "code",
   "execution_count": 4,
   "metadata": {},
   "outputs": [
    {
     "ename": "FileNotFoundError",
     "evalue": "[WinError 3] The system cannot find the path specified: 'BraTS2020_TrainingData\\\\MICCAI_BraTS2020_TrainingData\\\\BraTS20_Training_001'",
     "output_type": "error",
     "traceback": [
      "\u001b[1;31m---------------------------------------------------------------------------\u001b[0m",
      "\u001b[1;31mFileNotFoundError\u001b[0m                         Traceback (most recent call last)",
      "\u001b[1;32mc:\\Users\\01150138\\Desktop\\informatyka mgr\\GSN\\Projekt\\BrainCancerSegmentation\\src\\data\\process_data.ipynb Cell 5\u001b[0m line \u001b[0;36m3\n\u001b[0;32m      <a href='vscode-notebook-cell:/c%3A/Users/01150138/Desktop/informatyka%20mgr/GSN/Projekt/BrainCancerSegmentation/src/data/process_data.ipynb#W4sZmlsZQ%3D%3D?line=0'>1</a>\u001b[0m path \u001b[39m=\u001b[39m \u001b[39m'\u001b[39m\u001b[39mBraTS2020_TrainingData\u001b[39m\u001b[39m\\\u001b[39m\u001b[39mMICCAI_BraTS2020_TrainingData\u001b[39m\u001b[39m\\\u001b[39m\u001b[39mBraTS20_Training_001\u001b[39m\u001b[39m'\u001b[39m\n\u001b[1;32m----> <a href='vscode-notebook-cell:/c%3A/Users/01150138/Desktop/informatyka%20mgr/GSN/Projekt/BrainCancerSegmentation/src/data/process_data.ipynb#W4sZmlsZQ%3D%3D?line=2'>3</a>\u001b[0m filename \u001b[39m=\u001b[39m os\u001b[39m.\u001b[39;49mlistdir(path)[\u001b[39m0\u001b[39m]\n\u001b[0;32m      <a href='vscode-notebook-cell:/c%3A/Users/01150138/Desktop/informatyka%20mgr/GSN/Projekt/BrainCancerSegmentation/src/data/process_data.ipynb#W4sZmlsZQ%3D%3D?line=3'>4</a>\u001b[0m \u001b[39mprint\u001b[39m(filename)\n\u001b[0;32m      <a href='vscode-notebook-cell:/c%3A/Users/01150138/Desktop/informatyka%20mgr/GSN/Projekt/BrainCancerSegmentation/src/data/process_data.ipynb#W4sZmlsZQ%3D%3D?line=4'>5</a>\u001b[0m img \u001b[39m=\u001b[39m np\u001b[39m.\u001b[39marray(nib\u001b[39m.\u001b[39mload(path\u001b[39m+\u001b[39m\u001b[39m'\u001b[39m\u001b[39m/\u001b[39m\u001b[39m'\u001b[39m\u001b[39m+\u001b[39mfilename)\u001b[39m.\u001b[39mdataobj)\n",
      "\u001b[1;31mFileNotFoundError\u001b[0m: [WinError 3] The system cannot find the path specified: 'BraTS2020_TrainingData\\\\MICCAI_BraTS2020_TrainingData\\\\BraTS20_Training_001'"
     ]
    }
   ],
   "source": [
    "path = 'BraTS2020_TrainingData\\MICCAI_BraTS2020_TrainingData\\BraTS20_Training_001'\n",
    "\n",
    "filename = os.listdir(path)[0]\n",
    "print(filename)\n",
    "img = np.array(nib.load(path+'/'+filename).dataobj)\n",
    "print(img.shape)\n",
    "f = plt.figure()\n",
    "ii = 0\n",
    "for i in range(0,150,10):\n",
    "    f.add_subplot(1, 15, ii + 1)\n",
    "    plt.imshow(img[:,:,i])\n",
    "    ii+=1\n"
   ]
  },
  {
   "cell_type": "code",
   "execution_count": null,
   "metadata": {},
   "outputs": [],
   "source": [
    "class BratsDataset(Dataset):\n",
    "    def __init__(self, filenames_path, img_dir, transform=None, target_transform=None):\n",
    "        self.img_labels = pd.read_csv(annotations_file)\n",
    "        self.img_dir = img_dir\n",
    "        self.transform = transform\n",
    "        self.target_transform = target_transform\n",
    "\n",
    "    def __len__(self):\n",
    "        return len(self.img_labels)\n",
    "\n",
    "    def __getitem__(self, idx):\n",
    "        img_path = os.path.join(self.img_dir, self.img_labels.iloc[idx, 0])\n",
    "        image = read_image(img_path)\n",
    "        label = self.img_labels.iloc[idx, 1]\n",
    "        if self.transform:\n",
    "            image = self.transform(image)\n",
    "        if self.target_transform:\n",
    "            label = self.target_transform(label)\n",
    "        return image, label\n",
    "    \n",
    "    def get "
   ]
  },
  {
   "cell_type": "code",
   "execution_count": 29,
   "metadata": {},
   "outputs": [
    {
     "data": {
      "text/html": [
       "<div>\n",
       "<style scoped>\n",
       "    .dataframe tbody tr th:only-of-type {\n",
       "        vertical-align: middle;\n",
       "    }\n",
       "\n",
       "    .dataframe tbody tr th {\n",
       "        vertical-align: top;\n",
       "    }\n",
       "\n",
       "    .dataframe thead th {\n",
       "        text-align: right;\n",
       "    }\n",
       "</style>\n",
       "<table border=\"1\" class=\"dataframe\">\n",
       "  <thead>\n",
       "    <tr style=\"text-align: right;\">\n",
       "      <th></th>\n",
       "      <th>BraTS_2020_subject_ID</th>\n",
       "    </tr>\n",
       "  </thead>\n",
       "  <tbody>\n",
       "    <tr>\n",
       "      <th>0</th>\n",
       "      <td>../../Brats/BraTS2020_TrainingData/BraTS20_Val...</td>\n",
       "    </tr>\n",
       "    <tr>\n",
       "      <th>1</th>\n",
       "      <td>../../Brats/BraTS2020_TrainingData/BraTS20_Val...</td>\n",
       "    </tr>\n",
       "    <tr>\n",
       "      <th>2</th>\n",
       "      <td>../../Brats/BraTS2020_TrainingData/BraTS20_Val...</td>\n",
       "    </tr>\n",
       "    <tr>\n",
       "      <th>3</th>\n",
       "      <td>../../Brats/BraTS2020_TrainingData/BraTS20_Val...</td>\n",
       "    </tr>\n",
       "    <tr>\n",
       "      <th>4</th>\n",
       "      <td>../../Brats/BraTS2020_TrainingData/BraTS20_Val...</td>\n",
       "    </tr>\n",
       "    <tr>\n",
       "      <th>...</th>\n",
       "      <td>...</td>\n",
       "    </tr>\n",
       "    <tr>\n",
       "      <th>57</th>\n",
       "      <td>../../Brats/BraTS2020_TrainingData/BraTS20_Val...</td>\n",
       "    </tr>\n",
       "    <tr>\n",
       "      <th>58</th>\n",
       "      <td>../../Brats/BraTS2020_TrainingData/BraTS20_Val...</td>\n",
       "    </tr>\n",
       "    <tr>\n",
       "      <th>59</th>\n",
       "      <td>../../Brats/BraTS2020_TrainingData/BraTS20_Val...</td>\n",
       "    </tr>\n",
       "    <tr>\n",
       "      <th>60</th>\n",
       "      <td>../../Brats/BraTS2020_TrainingData/BraTS20_Val...</td>\n",
       "    </tr>\n",
       "    <tr>\n",
       "      <th>61</th>\n",
       "      <td>../../Brats/BraTS2020_TrainingData/BraTS20_Val...</td>\n",
       "    </tr>\n",
       "  </tbody>\n",
       "</table>\n",
       "<p>62 rows × 1 columns</p>\n",
       "</div>"
      ],
      "text/plain": [
       "                                BraTS_2020_subject_ID\n",
       "0   ../../Brats/BraTS2020_TrainingData/BraTS20_Val...\n",
       "1   ../../Brats/BraTS2020_TrainingData/BraTS20_Val...\n",
       "2   ../../Brats/BraTS2020_TrainingData/BraTS20_Val...\n",
       "3   ../../Brats/BraTS2020_TrainingData/BraTS20_Val...\n",
       "4   ../../Brats/BraTS2020_TrainingData/BraTS20_Val...\n",
       "..                                                ...\n",
       "57  ../../Brats/BraTS2020_TrainingData/BraTS20_Val...\n",
       "58  ../../Brats/BraTS2020_TrainingData/BraTS20_Val...\n",
       "59  ../../Brats/BraTS2020_TrainingData/BraTS20_Val...\n",
       "60  ../../Brats/BraTS2020_TrainingData/BraTS20_Val...\n",
       "61  ../../Brats/BraTS2020_TrainingData/BraTS20_Val...\n",
       "\n",
       "[62 rows x 1 columns]"
      ]
     },
     "execution_count": 29,
     "metadata": {},
     "output_type": "execute_result"
    }
   ],
   "source": [
    "def generateDatasetPaths(path_to_data,path_training,path_validation):\n",
    "    '''\n",
    "    Generate lists containing folder names for training, tests and validation.\n",
    "    In dataset we already have split between training and validation, \n",
    "    we will split validation dataset into 2 pieces: validation and testing.\n",
    "    Afterwards we are going to shuffle them to gain random order\n",
    "    '''\n",
    "    path_training = path_to_data +'/'+ path_training\n",
    "    path_validation = path_to_data +'/'+ path_validation\n",
    "\n",
    "    training  =  pd.read_csv(path_training + '/name_mapping.csv')\n",
    "    training = training[['BraTS_2020_subject_ID']]\n",
    "    training['BraTS_2020_subject_ID'] = training['BraTS_2020_subject_ID'].apply(lambda x: path_training + '/' + x)\n",
    "    training = training.sample(frac=1).reset_index(drop=True)\n",
    "\n",
    "    validandtest  =  pd.read_csv(path_validation+'/name_mapping_validation_data.csv')\n",
    "    validandtest = validandtest[['BraTS_2020_subject_ID']]\n",
    "    validandtest['BraTS_2020_subject_ID'] = validandtest['BraTS_2020_subject_ID'].apply(lambda x: path_training + '/' + x)\n",
    "\n",
    "    valid, test = train_test_split(validandtest, test_size=0.5)\n",
    "    valid.reset_index(drop=True,inplace=True)\n",
    "    test.reset_index(drop=True,inplace=True)\n",
    "\n",
    "    return training,test,valid\n",
    "\n",
    "training_filenames,test_filenames,valid_filenames = generateDatasetPaths('../../Brats','BraTS2020_TrainingData','BraTS2020_ValidationData')"
   ]
  },
  {
   "cell_type": "code",
   "execution_count": null,
   "metadata": {},
   "outputs": [],
   "source": []
  }
 ],
 "metadata": {
  "kernelspec": {
   "display_name": "Python 3",
   "language": "python",
   "name": "python3"
  },
  "language_info": {
   "codemirror_mode": {
    "name": "ipython",
    "version": 3
   },
   "file_extension": ".py",
   "mimetype": "text/x-python",
   "name": "python",
   "nbconvert_exporter": "python",
   "pygments_lexer": "ipython3",
   "version": "3.10.10"
  }
 },
 "nbformat": 4,
 "nbformat_minor": 2
}
