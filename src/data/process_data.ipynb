{
 "cells": [
  {
   "cell_type": "markdown",
   "metadata": {},
   "source": [
    "# Data Processing"
   ]
  },
  {
   "cell_type": "markdown",
   "metadata": {},
   "source": [
    "## First steps:\n",
    "1. Download dataset from https://www.kaggle.com/datasets/awsaf49/brats2020-training-data/\n",
    "2. extract data set to /Data/\n",
    "3. "
   ]
  },
  {
   "cell_type": "code",
   "execution_count": 12,
   "metadata": {},
   "outputs": [],
   "source": [
    "import nibabel as nib\n",
    "import numpy as np\n",
    "import os\n",
    "import matplotlib.pyplot as plt\n",
    "import torch\n",
    "from torch.utils.data import Dataset\n",
    "from torchvision import datasets\n",
    "from torchvision.transforms import ToTensor\n",
    "import matplotlib.pyplot as plt\n",
    "import pandas as pd\n",
    "from torchvision.io import read_image\n",
    "from sklearn.model_selection import train_test_split"
   ]
  },
  {
   "cell_type": "code",
   "execution_count": 5,
   "metadata": {},
   "outputs": [
    {
     "name": "stdout",
     "output_type": "stream",
     "text": [
      "c:\\Users\\01150138\\Desktop\\informatyka mgr\\GSN\\Projekt\\BrainCancerSegmentation\\src\\data\n"
     ]
    }
   ],
   "source": [
    "print(os.getcwd())"
   ]
  },
  {
   "cell_type": "code",
   "execution_count": 114,
   "metadata": {},
   "outputs": [
    {
     "name": "stdout",
     "output_type": "stream",
     "text": [
      "BraTS20_Training_129_flair.nii\n",
      "(240, 240, 155)\n"
     ]
    },
    {
     "data": {
      "image/png": "[encoded data removed]",
      "text/plain": [
       "<Figure size 640x480 with 10 Axes>"
      ]
     },
     "metadata": {},
     "output_type": "display_data"
    }
   ],
   "source": [
    "path = '../../Brats/BraTS2020_TrainingData\\BraTS20_Training_129'\n",
    "\n",
    "filename = os.listdir(path)[0]\n",
    "print(filename)\n",
    "img = np.array(nib.load(path+'/'+filename).dataobj)\n",
    "print(img.shape)\n",
    "f = plt.figure()\n",
    "ii = 0\n",
    "for i in range(30,40):\n",
    "    f.add_subplot(1, 10, ii + 1)\n",
    "    plt.imshow(img[:,:,i])\n",
    "    ii+=1\n",
    "\n"
   ]
  },
  {
   "cell_type": "code",
   "execution_count": 101,
   "metadata": {},
   "outputs": [],
   "source": [
    "class BratsDataset(Dataset):\n",
    "    def __init__(self, df_with_paths,batch_size = 8, slices_range = [30,130], num_of_slices = 20):\n",
    "        self.images = self._process(df_with_paths)\n",
    "        self.batch_size = batch_size\n",
    "    def __len__(self):\n",
    "        return len(self.images)\n",
    "\n",
    "    def __getitem__(self, idx):\n",
    "        pass\n",
    "    def _process(self,df, channel = 0):\n",
    "        '''\n",
    "        Take list of paths to folders as input and return dataset of 2D images and labels\n",
    "        Images are in .nii file format, which we read using \"nibabel\" and get 3D images,\n",
    "        then 3D images needs to be cut into 2D slices.\n",
    "        '''\n",
    "        for filename in df['BraTS_2020_subject_ID']:\n",
    "            # read 3D image\n",
    "            print(os.path.join(filename,os.listdir(filename)[channel]))\n",
    "            img3d = np.array(nib.load(os.path.join(filename,os.listdir(filename)[channel])).dataobj)\n",
    "            label3d = np.array(nib.load(os.path.join(filename,os.listdir(filename)[1])).dataobj)\n",
    "            print(img3d.shape,label3d.shape)\n",
    "            \n",
    "            #\n",
    "\n",
    "            break\n",
    "        pass\n",
    "\n",
    "    \n"
   ]
  },
  {
   "cell_type": "code",
   "execution_count": 102,
   "metadata": {},
   "outputs": [
    {
     "name": "stdout",
     "output_type": "stream",
     "text": [
      "../../Brats/BraTS2020_TrainingData/BraTS20_Training_033\\BraTS20_Training_033_flair.nii\n",
      "(240, 240, 155) (240, 240, 155)\n"
     ]
    }
   ],
   "source": [
    "test1 = BratsDataset(training_filenames)"
   ]
  },
  {
   "cell_type": "code",
   "execution_count": 34,
   "metadata": {},
   "outputs": [
    {
     "name": "stdout",
     "output_type": "stream",
     "text": [
      "Dataset split into datasets of size: \n",
      "Train: 369,\n",
      "Test: 63,\n",
      "Valid: 62.\n"
     ]
    }
   ],
   "source": [
    "def generateDatasetPaths(path_to_data,path_training,path_validation):\n",
    "    '''\n",
    "    Generate lists containing folder names for training, tests and validation.\n",
    "    In dataset we already have split between training and validation, \n",
    "    we will split validation dataset into 2 pieces: validation and testing.\n",
    "    Afterwards we are going to shuffle them to gain random order\n",
    "    '''\n",
    "    path_training = path_to_data +'/'+ path_training\n",
    "    path_validation = path_to_data +'/'+ path_validation\n",
    "\n",
    "    train  =  pd.read_csv(path_training + '/name_mapping.csv')\n",
    "    train = train[['BraTS_2020_subject_ID']]\n",
    "    train['BraTS_2020_subject_ID'] = train['BraTS_2020_subject_ID'].apply(lambda x: path_training + '/' + x)\n",
    "    train = train.sample(frac=1).reset_index(drop=True)\n",
    "\n",
    "    validandtest  =  pd.read_csv(path_validation+'/name_mapping_validation_data.csv')\n",
    "    validandtest = validandtest[['BraTS_2020_subject_ID']]\n",
    "    validandtest['BraTS_2020_subject_ID'] = validandtest['BraTS_2020_subject_ID'].apply(lambda x: path_training + '/' + x)\n",
    "\n",
    "    valid, test = train_test_split(validandtest, test_size=0.5)\n",
    "    valid.reset_index(drop=True,inplace=True)\n",
    "    test.reset_index(drop=True,inplace=True)\n",
    "\n",
    "    print(f'Dataset split into datasets of size: \\nTrain: {len(train)},\\nTest: {len(test)},\\nValid: {len(valid)}.')\n",
    "\n",
    "    return train,test,valid\n",
    "\n",
    "training_filenames,test_filenames,valid_filenames = generateDatasetPaths('../../Brats','BraTS2020_TrainingData','BraTS2020_ValidationData')"
   ]
  },
  {
   "cell_type": "code",
   "execution_count": 43,
   "metadata": {},
   "outputs": [],
   "source": [
    "training_filenames['images'] = training_filenames['BraTS_2020_subject_ID'].copy()\n",
    "training_filenames['images'] = training_filenames['images'].apply(lambda x: np.array(nib.load(x+'/'+os.listdir(x)[0]).dataobj))"
   ]
  },
  {
   "cell_type": "code",
   "execution_count": 50,
   "metadata": {},
   "outputs": [
    {
     "data": {
      "text/plain": [
       "BraTS_2020_subject_ID    ../../Brats/BraTS2020_TrainingData/BraTS20_Tra...\n",
       "images                   [[[0, 0, 0, 0, 0, 0, 0, 0, 0, 0, 0, 0, 0, 0, 0...\n",
       "Name: 0, dtype: object"
      ]
     },
     "execution_count": 50,
     "metadata": {},
     "output_type": "execute_result"
    }
   ],
   "source": [
    "training_filenames.iloc[0]"
   ]
  },
  {
   "cell_type": "code",
   "execution_count": null,
   "metadata": {},
   "outputs": [],
   "source": []
  }
 ],
 "metadata": {
  "kernelspec": {
   "display_name": "Python 3",
   "language": "python",
   "name": "python3"
  },
  "language_info": {
   "codemirror_mode": {
    "name": "ipython",
    "version": 3
   },
   "file_extension": ".py",
   "mimetype": "text/x-python",
   "name": "python",
   "nbconvert_exporter": "python",
   "pygments_lexer": "ipython3",
   "version": "3.10.10"
  }
 },
 "nbformat": 4,
 "nbformat_minor": 2
}
